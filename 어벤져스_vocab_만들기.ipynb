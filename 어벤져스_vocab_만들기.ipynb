{
  "nbformat": 4,
  "nbformat_minor": 0,
  "metadata": {
    "colab": {
      "provenance": [],
      "include_colab_link": true
    },
    "kernelspec": {
      "name": "python3",
      "display_name": "Python 3"
    },
    "language_info": {
      "name": "python"
    }
  },
  "cells": [
    {
      "cell_type": "markdown",
      "metadata": {
        "id": "view-in-github",
        "colab_type": "text"
      },
      "source": [
        "<a href=\"https://colab.research.google.com/github/nalbegsu/AIFFEL_quest_cr/blob/main/%EC%96%B4%EB%B2%A4%EC%A0%B8%EC%8A%A4_vocab_%EB%A7%8C%EB%93%A4%EA%B8%B0.ipynb\" target=\"_parent\"><img src=\"https://colab.research.google.com/assets/colab-badge.svg\" alt=\"Open In Colab\"/></a>"
      ]
    },
    {
      "cell_type": "code",
      "execution_count": null,
      "metadata": {
        "id": "-EPPXGFvbbEk"
      },
      "outputs": [],
      "source": [
        "# def vac(a)\n",
        "#    vac.lower(a)\n",
        "#    vac.strip (?)\n",
        "#    vac.split(' ')\n",
        "#    vac.counter( )\n",
        "#    vac.sort\n",
        "\n",
        "# 오류 1. 탭+스페이스를 같이 사용할 경우 에러가 남 (수정완료)\n",
        "# 오류 2. make 값에 -를 사용하여 에러가 감 (수정완료)\n",
        "# 오류 3. 단어장 전체 목록이 출력되는 현상 (수정완료)\n",
        "\n",
        "# def make_Avengersvocab():\n",
        "# 파일 읽기\n",
        "    # file = open('/content/drive/MyDrive/Avengers.txt', 'r')  # Avengers.txt 파일 열기\n",
        "    # text = file.read()  # 파일 읽기\n",
        "    # text = text.lower()  # 소문자로 변환\n",
        "    # file.close()  # 파일 닫기\n",
        "\n",
        "def make_Avengersvocab():\n",
        "    with open('/content/drive/MyDrive/Avengers.txt', 'r') as file:  # 파일 열고 읽기 (한 줄로 처리)\n",
        "        text = file.read().lower()  # 소문자로 변환 (한 줄로 처리)\n",
        "\n",
        "# 단어로 나누기\n",
        "    # words = text.split()\n",
        "\n",
        "# 특수문자 제거\n",
        "    # clean_words = []  # 특수문자 제외 단어 저장 리스트\n",
        "    # for word in words:\n",
        "        # clean_word = ''\n",
        "        # for char in word:\n",
        "            # if (ord(char) >= 97 and ord(char) <= 122) or (ord(char) >= 48 and ord(char) <= 57):  # 문자를 아스키 값으로 확인\n",
        "                # clean_word += char\n",
        "        # if clean_word:  # 비어있지 않은 단어들만 추가\n",
        "            # clean_words.append(clean_word)\n",
        "\n",
        "    clean_words = [''.join(char for char in word if char.isalnum())  # 문자 중 알파벳이나 숫자만 포함 (한 줄로 처리)\n",
        "        for word in text.split() if word ] # 단어가 비어 있지 않은 경우만 포함\n",
        "        # `for` 루프를 리스트 컴프리헨션으로 변환하여 간결화\n",
        "        # 단어 나누기와 특수문자 제거 통합\n",
        "\n",
        "# 단어 빈도수 확인\n",
        "    # word_count = {}  # 빈도수 저장 딕셔너리\n",
        "    # for word in clean_words:\n",
        "        # if word in word_count:\n",
        "            # word_count[word] += 1  # 이미 있는 단어라면 빈도수 증가\n",
        "        # else:\n",
        "            # word_count[word] = 1  # 없는 단어는 초기값 1로 설정\n",
        "    word_count = {word: clean_words.count(word) for word in set(clean_words)}\n",
        "    # `set(clean_words)`로 중복 단어 제거 후, 각 단어의 빈도수를 딕셔너리 컴프리헨션으로 계산\n",
        "    # 중복 확인과 빈도수 증가 로직을 한 줄로 간결화\n",
        "\n",
        "# 빈도수 기준으로 정렬\n",
        "    # word_list = []  # 빈도수 기준 정렬 저장 리스트\n",
        "    # for word, count in word_count.items():\n",
        "        # word_list.append([word, count])  # 단어와 빈도수 추가\n",
        "\n",
        "# 내림차순으로 정렬\n",
        "    # for i in range(len(word_list) - 1):\n",
        "        # for j in range(len(word_list) - 1 - i):\n",
        "            # if word_list[j][1] < word_list[j + 1][1]:  # 빈도수 비교\n",
        "                # word_list[j], word_list[j + 1] = word_list[j + 1], word_list[j]\n",
        "\n",
        "    word_list = sorted(word_count.items(), key=lambda x: -x[1])\n",
        "    # 빈도수 + 내림차수 통합\n",
        "    # 리스트 컴프리헨션, 정렬 함수 사용\n",
        "    # 내림차수 정렬을 `sorted()` 함수로 대체하여 간결화\n",
        "    # 빈도수 기준으로 내림차순 정렬\n",
        "\n",
        "# 순서대로 번호 부여\n",
        "    # final_Avengersvocab = {}\n",
        "    # for i in range(len(word_list)):\n",
        "        # final_Avengersvocab[word_list[i][0]] = i\n",
        "\n",
        "    final_Avengersvocab = {word: index for index, (word, _) in enumerate(word_list)}\n",
        "    # `enumerate()`와 딕셔너리 컴프리헨션을 사용하여 단어에 번호를 매김\n",
        "\n",
        "    return final_Avengersvocab\n",
        "\n",
        "\n",
        "# 단어를 번호로 변환한 결과 리스트\n",
        "    # result = []\n",
        "    # for word in words:\n",
        "        # if word in Avengersvocab:  # 단어가 단어장에 있는 경우\n",
        "            # result.append(Avengersvocab[word])  # 단어 번호 추가\n",
        "\n",
        "    # result = [Avengersvocab[word] for word in sentence if word in Avengersvocab]\n",
        "\n",
        "def encoder(Avengersvocab):\n",
        "    # 사용자 입력 받기\n",
        "    sentence = input(\"분석할 문장을 입력하세요: \")  # 사용자가 입력할 문자열\n",
        "    words = sentence.lower().split()  # 문장을 소문자로 변환하고 단어로 분리\n",
        "    # `for` 루프를 리스트 컴프리헨션으로 변환하여 간결화\n",
        "\n",
        "    return result  # 결과 반환\n",
        "\n",
        "\n",
        "# 실행\n",
        "Avengersvocab = make_Avengersvocab()  # 단어장 생성\n",
        " # print(\"단어장:\", Avengersvocab)  # 단어장 출력 -> 전체 알파뱃과 번호가 출력되는 현상으로 삭제\n",
        "\n",
        "# 입력 문장 분석 결과 출력\n",
        "encoded_result = encoder(Avengersvocab)\n",
        "print(\"\\n분석 결과:\", encoded_result)\n",
        "\n",
        "# 회고 - 이용기 : 필요한 함수를 찾는 것까진 좋았으나 그 이후엔 팀원 분에게 전부 의지해 코드 작성이 진행되어 매우 분발해야겠다는 생각이 들었다.\n",
        "# 회고 - 김태성 : 코드가 한번에 떠오르지 않아서, 기존에 학습을 정리한 내용과, 검색에만 의지해서 코드를 작성했다. 하나도 기억을 못한다는 것은, 하나도 모른다는 것과 같다고 생각이 드니, 스스로 많이 반성하게 되었다."
      ]
    },
    {
      "cell_type": "code",
      "source": [
        "from google.colab import drive\n",
        "drive.mount('/content/drive')"
      ],
      "metadata": {
        "id": "tzGOOO0U2unm"
      },
      "execution_count": null,
      "outputs": []
    },
    {
      "cell_type": "code",
      "source": [],
      "metadata": {
        "id": "5im1_V-686I_"
      },
      "execution_count": null,
      "outputs": []
    }
  ]
}