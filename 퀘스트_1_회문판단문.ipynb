{
  "nbformat": 4,
  "nbformat_minor": 0,
  "metadata": {
    "colab": {
      "provenance": [],
      "include_colab_link": true
    },
    "kernelspec": {
      "name": "python3",
      "display_name": "Python 3"
    },
    "language_info": {
      "name": "python"
    }
  },
  "cells": [
    {
      "cell_type": "markdown",
      "metadata": {
        "id": "view-in-github",
        "colab_type": "text"
      },
      "source": [
        "<a href=\"https://colab.research.google.com/github/nalbegsu/AIFFEL_quest_cr/blob/main/%ED%80%98%EC%8A%A4%ED%8A%B8_1_%ED%9A%8C%EB%AC%B8%ED%8C%90%EB%8B%A8%EB%AC%B8.ipynb\" target=\"_parent\"><img src=\"https://colab.research.google.com/assets/colab-badge.svg\" alt=\"Open In Colab\"/></a>"
      ]
    },
    {
      "cell_type": "code",
      "source": [
        "#회문판단문\n",
        "\n",
        "#네이게이터 : 최유진\n",
        "\n",
        "#드라이버 : 이용기\n",
        "\n",
        "a = input('\\n') # 판별할 문자열 input으로 받기\n",
        "\n",
        "print (\"\\n입력값: \", a[::-1])  # 먼저 뒤집힌 단어를 print 문으로 출력\n",
        "\n",
        "def palindrome(a): # palidrome 함수로 입력받은 a 를 판단\n",
        "    return a==a[::-1]\n",
        "\n",
        "if palindrome(a):  # 받은 단어를 if 조건문으로 판단\n",
        "    print (\"출력값 : \", a[::-1] ,\" 회문입니다.\") # 입력된 단어가 회문이 맞는 경우를 print 문으로 출력\n",
        "\n",
        "else:\n",
        "    print (\"출력값 :\", \"입력된 단어는 회문이 아닙니다\") # 입력된 단어가 회문이 아닌 경우를 print 문으로 출력\n",
        "\n",
        "    회고 : 간단한 작업처럼 보였으나, 회문을 출력할 때 세심한 부분을 신경쓰는 게 어려웠다."
      ],
      "metadata": {
        "id": "1t4HoKHnLMPc"
      },
      "execution_count": null,
      "outputs": []
    },
    {
      "cell_type": "code",
      "source": [
        "0"
      ],
      "metadata": {
        "id": "WQXpBCUwUbsg"
      },
      "execution_count": null,
      "outputs": []
    }
  ]
}